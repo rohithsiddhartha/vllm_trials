{
 "cells": [
  {
   "cell_type": "markdown",
   "metadata": {},
   "source": [
    "## GPT API calls for Direction 2 Constraint generation"
   ]
  },
  {
   "cell_type": "code",
   "execution_count": 14,
   "metadata": {},
   "outputs": [],
   "source": [
    "system_prompt = \"\"\"You are an English writing expert and you need to set hard essay prompts for the genre of Realistic Fiction. Your aim is to generate extremely hard constraints that make the essay writing very challenging. \n",
    "\n",
    "An essay prompt is defined as a main Instruction + Constraints. You will be given an Instruction as an input and you should generate more complex constraints that can be added to the Instruction. \n",
    "\n",
    "Constraints can be defined in the following categories - \n",
    "Content - Egs: Climate change impacts, .\n",
    "Linguistic - Egs: Victorian English, Pirate slang.\n",
    "Style - Egs: Respectful Tone, ELI5\n",
    "Format - Egs: List 3 bullet points, paragraphs.\n",
    "Number - Egs: 500 word essay, three arguments for electric vehicles.\n",
    "\n",
    "The definitions are just for your reference.\n",
    "\n",
    "Give me a numbered list of EXACTLY {} CONSTRAINTS.\n",
    "\n",
    "The constraints should be complex and creative but as the genre is Realistic Fiction, be true to the genre. The constraints should be clear and atomic, that is, if a constraint can be decomposed into multiple sub constraints, list all of them separately. Although challenging, it should be possible to write a coherent story with a flow using your constraints.\n",
    "\n",
    "IMPORTANT: Your constraints should be UNIQUE. DO NOT GIVE CONTRADICTORY CONSTRAINTS. It should NOT require any specific domain knowledge to understand the constraints. DO NOT INCLUDE COMPLICATED OR POETRY RELATED VOCABULARY in your responses. DO NOT START YOUR LINE WITH THE CONSTRAINT CATEGORY (Lisguistic:, Format:, etc), JUST GIVE ONLY THE CONSTRAINT.\n",
    "\n",
    "\"\"\"\n",
    "\n",
    "prompt_examples = \"\"\"Here are some example responses -\n",
    "\n",
    "Input - Write a story about the incident of two friend's day out gone wrong.\n",
    "Output - \n",
    "1. The story must be written in the form of a dialogue between the two friends.\n",
    "2. The story must include a flashback to a childhood memory of one of the friends.\n",
    "3. One of the friends must have a secret that is revealed during the day out.\n",
    "4. The story must contain at least three unexpected plot twists.\n",
    "5. The friends must communicate only through handwritten notes for a part of the story.\n",
    "6. The story must include a mysterious stranger who impacts the day out.\n",
    "7. One of the friends must have a phobia that becomes a central theme in the story.\n",
    "8. The setting of the story must change at least three times.\n",
    "9. The climax of the story must involve a natural disaster.\n",
    "10. The story must end with a cliffhanger that leaves the readers guessing about the fate of the friends.\n",
    "\n",
    "Input - Write a story that follows the journey of a professional woman of color named Rachel Michelle.\n",
    "Output - \n",
    "1. Rachel is single, has two kids she is supporting through high school.\n",
    "2. Rachel is considering leaving her corporate job to become an entrepreneur. \n",
    "3. The story should detail the steps she takes to create a life plan and make the leap.\n",
    "4. Highlight her success as an entrepreneur with just five employees.\n",
    "5. The story should be written in a motivational and engaging style.\n",
    "6. Incorporate practical and mental wellness strategies that helped her achieve her goals.\n",
    "7. Explore the complex relationship between her and her growing kids.\n",
    "8. The story should be a lesson in financial freedom.\n",
    "9. The story should cater to a young audience.\n",
    "10. Write the story in 1000 words or less.\n",
    "\n",
    "Input - Imagine a world where life expectancy is fixed and same for everyone at birth, yet people can engage in life expectancy \"donation\" - meaning that someone can extend your life three years longer at the expense of theirs. \n",
    "Output -\n",
    "1. Include themes of manipulation and forced donation.\n",
    "2. Follow a group of teenage kids who live in this world.\n",
    "3. Maintain a dark, gritty theme and atmosphere.\n",
    "4. Write the story in 4 parts - each part being less than 300 words.\n",
    "5. Include a dog's perspective. \n",
    "6. Introduce rules and policies that might seem extreme but are normal in this world.\n",
    "7. Explore how fashion is different in this world.\n",
    "8. Incorporate humorous characters to offset the dark setting of this world.\n",
    "9. Show how unusual morning routines can get.\n",
    "10. End the story on a cliffhanger.\n",
    "\n",
    "\"\"\"\n",
    "user_input = \"\"\"\n",
    "Input - {}\n",
    "Output -\n",
    "\"\"\""
   ]
  },
  {
   "cell_type": "markdown",
   "metadata": {},
   "source": [
    "Setup OpenAI Model"
   ]
  },
  {
   "cell_type": "code",
   "execution_count": 15,
   "metadata": {},
   "outputs": [],
   "source": [
    "from openai import OpenAI\n",
    "from datetime import datetime\n",
    "import os\n",
    "from dotenv import load_dotenv\n",
    "\n",
    "load_dotenv()\n",
    "\n",
    "api_key = os.environ['OPENAI_API_KEY']\n",
    "client = OpenAI(api_key=api_key)\n",
    "\n",
    "def chat(instruction, model=\"gpt-3.5-turbo\", system_prompt=system_prompt, n=20, log=False):\n",
    "    \n",
    "    response = client.chat.completions.create(\n",
    "        model=model,\n",
    "        messages=[\n",
    "            {\"role\": \"system\", \"content\":system_prompt.format(n)},\n",
    "            {\"role\": \"user\", \"content\":user_input.format(instruction)},\n",
    "        ]\n",
    "    )\n",
    "\n",
    "    log_usage(tokens=response.usage.total_tokens)\n",
    "\n",
    "    if log:\n",
    "        print(\"Total tokens used: \", response.usage.total_tokens)\n",
    "\n",
    "    return response\n",
    "\n",
    "\n",
    "def log_usage(tokens):\n",
    "    # Get the current date and time\n",
    "    current_time = datetime.now().strftime(\"%m-%d-%Y %H:%M:%S\")\n",
    "\n",
    "    # Write the date-time and tokens used to the file\n",
    "    with open(\"api_usage.txt\", \"a\") as file:\n",
    "        file.write(f\"{current_time} : {tokens}\\n\")\n",
    "\n",
    "\n",
    "def total_usage():\n",
    "    total_tokens = 0\n",
    "    with open(\"api_usage.txt\", \"r\") as file:\n",
    "        for line in file:\n",
    "            # Split the line into date-time and tokens\n",
    "            parts = line.split(\" : \")\n",
    "            if len(parts) == 2:\n",
    "                _, tokens_str = parts\n",
    "                tokens = int(tokens_str)\n",
    "                total_tokens += tokens\n",
    "    \n",
    "    cost = (total_tokens*0.0015)/1000\n",
    "    print(\"Total tokens used so far: \", total_tokens)\n",
    "    print(f\"Total cost so far: {cost}$\")\n",
    "    return\n",
    "\n"
   ]
  },
  {
   "cell_type": "code",
   "execution_count": 16,
   "metadata": {},
   "outputs": [],
   "source": [
    "import openpyxl\n",
    "import pandas as pd\n",
    "\n",
    "def get_instructions():\n",
    "\n",
    "    # Read the Excel file into a DataFrame\n",
    "    df = pd.read_excel(\"Data/input_instructions.xlsx\")\n",
    "\n",
    "    instructions = [list(row.values()) for row in df.to_dict(orient='records')]\n",
    "    \n",
    "    return instructions"
   ]
  },
  {
   "cell_type": "code",
   "execution_count": 17,
   "metadata": {},
   "outputs": [],
   "source": [
    "def generate_constraints():\n",
    "    n = 20\n",
    "    instructions = get_instructions()\n",
    "    sheet_name = \"chatgpt-3.5-turbo\"\n",
    "\n",
    "    df = pd.read_excel('Data/constraints.xlsx', sheet_name=sheet_name)\n",
    "\n",
    "    dfs_to_concat = []\n",
    "\n",
    "    for instruction in instructions:\n",
    "        \n",
    "        response = chat(instruction=instruction[0], n=n, log=True)\n",
    "\n",
    "        new_row = {\n",
    "            'Instruction': instruction[0],\n",
    "            'Category': instruction[1],\n",
    "            'Constraints': response.choices[0].message.content\n",
    "        }\n",
    "        new_df = pd.DataFrame([new_row])\n",
    "\n",
    "        dfs_to_concat.append(new_df)\n",
    "    \n",
    "    # Concatenate all DataFrames in the list\n",
    "    df = pd.concat([df] + dfs_to_concat, ignore_index=True)\n",
    "\n",
    "    df.to_excel('Data/constraints.xlsx', index=False, sheet_name=sheet_name)\n",
    "\n",
    "    "
   ]
  },
  {
   "cell_type": "code",
   "execution_count": 18,
   "metadata": {},
   "outputs": [
    {
     "name": "stdout",
     "output_type": "stream",
     "text": [
      "Total tokens used:  737\n",
      "Total tokens used:  710\n",
      "Total tokens used:  800\n",
      "Total tokens used:  785\n",
      "Total tokens used:  778\n",
      "Total tokens used:  810\n",
      "Total tokens used:  882\n",
      "Total tokens used:  930\n",
      "Total tokens used:  758\n",
      "Total tokens used:  813\n"
     ]
    }
   ],
   "source": [
    "generate_constraints()"
   ]
  },
  {
   "cell_type": "code",
   "execution_count": 20,
   "metadata": {},
   "outputs": [
    {
     "name": "stdout",
     "output_type": "stream",
     "text": [
      "Total tokens used so far:  27810\n",
      "Total cost so far: 0.041715$\n"
     ]
    }
   ],
   "source": [
    "total_usage()"
   ]
  },
  {
   "cell_type": "code",
   "execution_count": 153,
   "metadata": {},
   "outputs": [
    {
     "name": "stdout",
     "output_type": "stream",
     "text": [
      "[{'role': 'user', 'content': '\\nInput - Plan for a three day road trip for May long weekend from Westfield, New Jersey\\nOutput -\\n'}]\n",
      "[{'role': 'user', 'content': '\\nInput - Write a story about incident of two friend’s day out going wrong.\\nOutput -\\n'}]\n",
      "[{'role': 'user', 'content': '\\nInput - Write a short paragraph about why you should not have both a pet cat and a pet bird.\\t\\nOutput -\\n'}]\n",
      "[{'role': 'user', 'content': '\\nInput - Write a passage for ideas for the most amazing welcome party in high school.\\nOutput -\\n'}]\n",
      "[{'role': 'user', 'content': '\\nInput - Plan a weekend long vacation to Madrid, and mention multiple specific places you would visit and how you would travel in the city\\t\\nOutput -\\n'}]\n",
      "[{'role': 'user', 'content': '\\nInput - Write a story about being stuck in a locked gym storage room with the person you arguably hate the most.\\nOutput -\\n'}]\n",
      "[{'role': 'user', 'content': '\\nInput - Write a story about returning something a random stranger dropped on the train, later get lost and encounter that same stranger again.\\nOutput -\\n'}]\n",
      "[{'role': 'user', 'content': '\\nInput - Write a passage about the sensation of taking a cold shower and explain the rationale for why someone might take one.\\t\\nOutput -\\n'}]\n",
      "[{'role': 'user', 'content': '\\nInput - Write a story about sitting on a park bench for no reason, watching people. A conversation with a random stranger who is resting while walking his/her dog.\\nOutput -\\n'}]\n",
      "[{'role': 'user', 'content': '\\nInput - Write a letter to my mom to convince her that I should be able to get a cat.\\nOutput -\\n'}]\n"
     ]
    }
   ],
   "source": [
    "instructions = get_instructions()\n",
    "n = 20\n",
    "for instruction in instructions:\n",
    "    # print(instruction[0])\n",
    "    messages=[\n",
    "        {\"role\": \"user\", \"content\":user_input.format(instruction[0])},\n",
    "    ]\n",
    "    print(messages)"
   ]
  },
  {
   "cell_type": "code",
   "execution_count": null,
   "metadata": {},
   "outputs": [],
   "source": []
  }
 ],
 "metadata": {
  "kernelspec": {
   "display_name": "696",
   "language": "python",
   "name": "python3"
  },
  "language_info": {
   "codemirror_mode": {
    "name": "ipython",
    "version": 3
   },
   "file_extension": ".py",
   "mimetype": "text/x-python",
   "name": "python",
   "nbconvert_exporter": "python",
   "pygments_lexer": "ipython3",
   "version": "3.11.7"
  }
 },
 "nbformat": 4,
 "nbformat_minor": 2
}
