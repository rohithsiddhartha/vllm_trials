{
 "cells": [
  {
   "cell_type": "markdown",
   "metadata": {},
   "source": [
    "## GPT API calls for Direction 2 Constraint generation"
   ]
  },
  {
   "cell_type": "code",
   "execution_count": 5,
   "metadata": {},
   "outputs": [],
   "source": [
    "system_prompt = \"\"\"You are an English writing expert and you need to set hard essay prompts for the genre of Relistic Fiction. Your aim is to generate extremely hard constraints that make the essay writing very challenging. \n",
    "\n",
    "An essay prompt is defined as a main Instruction + Constraints. You will be given an Instruction as an input and you should generate more complex constraints that can be added to the Instruction. \n",
    "\n",
    "Constraints can be defined in the following categories - \n",
    "Content - Egs: Climate change impacts, .\n",
    "Linguistic - Egs: Victorian English, Pirate slang.\n",
    "Style - Egs: Respectful Tone, ELI5\n",
    "Format - Egs: List 3 bullet points, paragraphs.\n",
    "Number - Egs: 500 word essay, three arguments for electric vehicles.\n",
    "\n",
    "The definitions are just for your reference. You do not \n",
    "\n",
    "Give me a numbered list of EXACTLY {} CONSTRAINTS.\n",
    "\n",
    "You may include all or even just one category based on what's appropriate for the Instruction. You do not need to make sure you include all categories. The definitions are just for your reference. \n",
    "\n",
    "The constraints should be complex and wildly creative so you may come up with constraints that can differ from the main topic of the Instruction. But keep them realistic enough and not too contradictory to make it possible to write a story. It should NOT require any specific domain knowledge to understand the constraints. DO NOT INCLUDE COMPLICATED VOCABULARY OR POETRY RELATED TERMINOLOGY in your responses. Make the constraints such that a flow (if any) in a story can be maintained.\n",
    "\n",
    "The constraints should be clear and atomic, that is, if a constraint can be decomposed into multiple sub constraints, list all of them separately. DO NOT REPEAT CONSTRAINTS. DO NOT START YOUR LINE WITH THE CONSTRAINT CATEGORY (Lisguistic:, Format:, etc), JUST GIVE ONLY THE CONSTRAINT.\n",
    "\"\"\"\n",
    "\n",
    "prompt_examples = \"\"\"Here are some examples -\n",
    "\n",
    "Input - Here are some examples -\n",
    "\n",
    "Input - Write a story that follows the journey of a professional woman of color named Rachel Michelle.\n",
    "Output - \n",
    "1. Rachel is single, has two kids she is supporting through high school.\n",
    "2. Rachel is considering leaving her corporate job to become an entrepreneur. \n",
    "3. The story should detail the steps she takes to create a life plan and make the leap.\n",
    "4. Highlight her success as an entrepreneur with five employees.\n",
    "5. The book should be written in a motivational and engaging style.\n",
    "6. Incorporate practical and mental wellness strategies that helped her achieve her goals.\n",
    "7. Explore the complex relationship between her and her growing kids.\n",
    "8. The story should be a lesson in holistic wellness and life coaching.\n",
    "9. The story should cater to a young audience.\n",
    "10. Write the story in 8 paragraphs or less.\n",
    "\n",
    "Input - Write a story about the incident of two friend's day out gone wrong.\n",
    "Output - \n",
    "1. One of the friends must have a secret that is revealed during the day out.\n",
    "2. One of the friends must have a phobia that becomes a central theme in the story.\n",
    "3. Maintain a casual tone overall but create tension when required to keep readers engaged. \n",
    "4. Involve their pet parrot in the plot. \n",
    "5. The story must contain an unexpected plot twist.\n",
    "6. The friends must communicate through handwritten notes for a part of the story.\n",
    "7. The story must include a mysterious stranger who impacts their day.\n",
    "8. The setting of the story must change at least two times.\n",
    "9. The climax of the story must involve a natural disaster.\n",
    "10. The story must end with a cliffhanger that leaves the readers guessing about the fate of the friends.\n",
    "\n",
    "\"\"\"\n",
    "user_input = \"\"\"\n",
    "Input - {}\n",
    "Output -\n",
    "\"\"\"\n",
    "\n",
    "system_prompt = system_prompt + prompt_examples"
   ]
  },
  {
   "cell_type": "markdown",
   "metadata": {},
   "source": [
    "Setup OpenAI Model"
   ]
  },
  {
   "cell_type": "code",
   "execution_count": 6,
   "metadata": {},
   "outputs": [],
   "source": [
    "from openai import OpenAI\n",
    "from datetime import datetime\n",
    "import os\n",
    "from dotenv import load_dotenv\n",
    "\n",
    "load_dotenv()\n",
    "\n",
    "api_key = os.environ['OPENAI_API_KEY']\n",
    "client = OpenAI(api_key=api_key)\n",
    "\n",
    "def chat(instruction, model=\"gpt-3.5-turbo\", system_prompt=system_prompt, n=20, log=False):\n",
    "    \n",
    "    response = client.chat.completions.create(\n",
    "        model=model,\n",
    "        messages=[\n",
    "            {\"role\": \"system\", \"content\":system_prompt.format(n)},\n",
    "            {\"role\": \"user\", \"content\":user_input.format(instruction)},\n",
    "        ]\n",
    "    )\n",
    "\n",
    "    log_usage(tokens=response.usage.total_tokens, model=model)\n",
    "\n",
    "    if log:\n",
    "        print(\"Total tokens used: \", response.usage.total_tokens)\n",
    "\n",
    "    return response\n",
    "\n",
    "\n",
    "def log_usage(tokens, model):\n",
    "    # Get the current date and time\n",
    "    current_time = datetime.now().strftime(\"%m-%d-%Y %H:%M:%S\")\n",
    "\n",
    "    # Write the date-time and tokens used to the file\n",
    "    with open(\"api_usage.txt\", \"a\") as file:\n",
    "        file.write(f\"{model} {current_time} : {tokens}\\n\")\n",
    "\n",
    "def total_usage():\n",
    "    model_tokens = {}\n",
    "    model_prices = {\"gpt-3.5-turbo\": 0.0015, \"gpt-4-turbo\": 0.03}\n",
    "    \n",
    "    with open(\"api_usage.txt\", \"r\") as file:\n",
    "        for line in file:\n",
    "            parts = line.split(\" \")\n",
    "            if len(parts) >= 4:\n",
    "                model_name = parts[0]\n",
    "                tokens_str = parts[-1].strip()\n",
    "                tokens = int(tokens_str)\n",
    "                if model_name in model_tokens:\n",
    "                    model_tokens[model_name] += tokens\n",
    "                else:\n",
    "                    model_tokens[model_name] = tokens\n",
    "    \n",
    "    total_cost = 0\n",
    "    for model, tokens in model_tokens.items():\n",
    "        cost = (tokens * model_prices[model]) / 1000\n",
    "        total_cost += cost\n",
    "        print(f\"Total tokens used for {model}: {tokens}\")\n",
    "        print(f\"\\nTotal cost for {model}: {cost}$\")\n",
    "    \n",
    "    print(f\"\\nTotal cost so far: {total_cost}$\")\n",
    "    return\n"
   ]
  },
  {
   "cell_type": "code",
   "execution_count": 7,
   "metadata": {},
   "outputs": [],
   "source": [
    "import openpyxl\n",
    "import pandas as pd\n",
    "\n",
    "def get_instructions():\n",
    "\n",
    "    # Read the Excel file into a DataFrame\n",
    "    df = pd.read_excel(\"Data/input_instructions.xlsx\")\n",
    "\n",
    "    instructions = [list(row.values()) for row in df.to_dict(orient='records')]\n",
    "    \n",
    "    return instructions"
   ]
  },
  {
   "cell_type": "code",
   "execution_count": 9,
   "metadata": {},
   "outputs": [],
   "source": [
    "def generate_constraints(sheet_name):\n",
    "    n = 20\n",
    "    instructions = get_instructions()\n",
    "    sheet_name = \"chatgpt-3.5-turbo\"\n",
    "\n",
    "    df = pd.read_excel('Data/constraints.xlsx', sheet_name=sheet_name)\n",
    "\n",
    "    dfs_to_concat = []\n",
    "\n",
    "    for instruction in instructions:\n",
    "        \n",
    "        response = chat(instruction=instruction[0], n=n, log=True)\n",
    "\n",
    "        new_row = {\n",
    "            'Instruction': instruction[0],\n",
    "            'Category': instruction[1],\n",
    "            'Constraints': response.choices[0].message.content\n",
    "        }\n",
    "        new_df = pd.DataFrame([new_row])\n",
    "\n",
    "        dfs_to_concat.append(new_df)\n",
    "    \n",
    "    # Concatenate all DataFrames in the list\n",
    "    df = pd.concat([df] + dfs_to_concat, ignore_index=True)\n",
    "\n",
    "    df.to_excel('Data/constraints.xlsx', index=False, sheet_name=sheet_name)\n",
    "\n",
    "    "
   ]
  },
  {
   "cell_type": "code",
   "execution_count": 11,
   "metadata": {},
   "outputs": [
    {
     "name": "stdout",
     "output_type": "stream",
     "text": [
      "Total tokens used:  1275\n",
      "Total tokens used:  1134\n",
      "Total tokens used:  1170\n",
      "Total tokens used:  1223\n",
      "Total tokens used:  1158\n",
      "Total tokens used:  1160\n",
      "Total tokens used:  1168\n",
      "Total tokens used:  1162\n",
      "Total tokens used:  1204\n",
      "Total tokens used:  1168\n",
      "Total tokens used:  1164\n",
      "Total tokens used:  1242\n"
     ]
    }
   ],
   "source": [
    "generate_constraints()"
   ]
  },
  {
   "cell_type": "code",
   "execution_count": 12,
   "metadata": {},
   "outputs": [
    {
     "name": "stdout",
     "output_type": "stream",
     "text": [
      "Total tokens used for gpt-3.5-turbo: 43194\n",
      "\n",
      "Total cost for gpt-3.5-turbo: 0.064791$\n",
      "\n",
      "Total cost so far: 0.064791$\n"
     ]
    }
   ],
   "source": [
    "total_usage()"
   ]
  },
  {
   "cell_type": "code",
   "execution_count": 153,
   "metadata": {},
   "outputs": [
    {
     "name": "stdout",
     "output_type": "stream",
     "text": [
      "[{'role': 'user', 'content': '\\nInput - Plan for a three day road trip for May long weekend from Westfield, New Jersey\\nOutput -\\n'}]\n",
      "[{'role': 'user', 'content': '\\nInput - Write a story about incident of two friend’s day out going wrong.\\nOutput -\\n'}]\n",
      "[{'role': 'user', 'content': '\\nInput - Write a short paragraph about why you should not have both a pet cat and a pet bird.\\t\\nOutput -\\n'}]\n",
      "[{'role': 'user', 'content': '\\nInput - Write a passage for ideas for the most amazing welcome party in high school.\\nOutput -\\n'}]\n",
      "[{'role': 'user', 'content': '\\nInput - Plan a weekend long vacation to Madrid, and mention multiple specific places you would visit and how you would travel in the city\\t\\nOutput -\\n'}]\n",
      "[{'role': 'user', 'content': '\\nInput - Write a story about being stuck in a locked gym storage room with the person you arguably hate the most.\\nOutput -\\n'}]\n",
      "[{'role': 'user', 'content': '\\nInput - Write a story about returning something a random stranger dropped on the train, later get lost and encounter that same stranger again.\\nOutput -\\n'}]\n",
      "[{'role': 'user', 'content': '\\nInput - Write a passage about the sensation of taking a cold shower and explain the rationale for why someone might take one.\\t\\nOutput -\\n'}]\n",
      "[{'role': 'user', 'content': '\\nInput - Write a story about sitting on a park bench for no reason, watching people. A conversation with a random stranger who is resting while walking his/her dog.\\nOutput -\\n'}]\n",
      "[{'role': 'user', 'content': '\\nInput - Write a letter to my mom to convince her that I should be able to get a cat.\\nOutput -\\n'}]\n"
     ]
    }
   ],
   "source": [
    "instructions = get_instructions()\n",
    "n = 20\n",
    "for instruction in instructions:\n",
    "    # print(instruction[0])\n",
    "    messages=[\n",
    "        {\"role\": \"user\", \"content\":user_input.format(instruction[0])},\n",
    "    ]\n",
    "    print(messages)"
   ]
  },
  {
   "cell_type": "code",
   "execution_count": null,
   "metadata": {},
   "outputs": [],
   "source": []
  }
 ],
 "metadata": {
  "kernelspec": {
   "display_name": "696",
   "language": "python",
   "name": "python3"
  },
  "language_info": {
   "codemirror_mode": {
    "name": "ipython",
    "version": 3
   },
   "file_extension": ".py",
   "mimetype": "text/x-python",
   "name": "python",
   "nbconvert_exporter": "python",
   "pygments_lexer": "ipython3",
   "version": "3.11.7"
  }
 },
 "nbformat": 4,
 "nbformat_minor": 2
}
